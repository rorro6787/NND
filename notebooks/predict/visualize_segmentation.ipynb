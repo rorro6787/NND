{
  "cells": [
    {
      "cell_type": "code",
      "execution_count": null,
      "metadata": {},
      "outputs": [],
      "source": [
        "from ipywidgets import IntSlider, Dropdown, interactive\n",
        "from IPython.display import display\n",
        "import matplotlib.pyplot as plt\n",
        "import nibabel as nib\n",
        "import numpy as np\n",
        "import os"
      ]
    },
    {
      "cell_type": "code",
      "execution_count": null,
      "metadata": {},
      "outputs": [],
      "source": [
        "def _display_slices(slices: list, model_name: str):\n",
        "    \"\"\"\n",
        "    Function to plot a slice of an MRI image\n",
        "\n",
        "    Args:\n",
        "        slices: List of 2D slices to plot\n",
        "        model_name: Name of the model for labeling\n",
        "\n",
        "    Returns:\n",
        "        None\n",
        "    \"\"\"\n",
        "\n",
        "    # Normalize slices to [0, 1] for proper blending\n",
        "    slices = [\n",
        "        np.clip(slice_data / np.max(slice_data), 0, 1) if np.max(slice_data) > 0 else slice_data\n",
        "        for slice_data in slices\n",
        "    ]\n",
        "\n",
        "    # Separate the images\n",
        "    original = slices[0]\n",
        "    ground_truth = slices[1]\n",
        "    prediction = slices[2]\n",
        "\n",
        "    # Create a new RGB image for overlay\n",
        "    overlay = np.zeros((*original.shape, 3))  \n",
        "    overlay[..., 0] = prediction  \n",
        "    overlay[..., 2] = ground_truth \n",
        "\n",
        "    overlay_truth = np.zeros((*original.shape, 3)) \n",
        "    overlay_truth[..., 2] = ground_truth \n",
        "\n",
        "    overlay_pred = np.zeros((*original.shape, 3))  \n",
        "    overlay_pred[..., 0] = prediction  \n",
        "\n",
        "    # Plot the images\n",
        "    _, axes = plt.subplots(1, 4, figsize=(20, 20))\n",
        "\n",
        "    title_kwargs = {'fontsize': 16, 'fontweight': 'bold'}  # Custom title formatting\n",
        "\n",
        "    axes[0].imshow(original, cmap='gray')\n",
        "    axes[0].set_title(\"Corte Original\", **title_kwargs)\n",
        "    axes[0].axis('off')\n",
        "\n",
        "    axes[1].imshow(original, cmap='gray')  \n",
        "    axes[1].imshow(overlay_truth, alpha=0.5)  \n",
        "    axes[1].set_title(\"Máscara de Segmentación\", **title_kwargs)\n",
        "    axes[1].axis('off')\n",
        "\n",
        "    axes[2].imshow(original, cmap='gray')  \n",
        "    axes[2].imshow(overlay_pred, alpha=0.5)  \n",
        "    axes[2].set_title(f\"Prediction de {model_name}\", **title_kwargs)\n",
        "    axes[2].axis('off')\n",
        "\n",
        "    axes[3].imshow(original, cmap='gray')  \n",
        "    axes[3].imshow(overlay, alpha=0.5)  \n",
        "    axes[3].set_title(\"Superposición\", **title_kwargs)\n",
        "    axes[3].axis('off')\n",
        "\n",
        "    plt.tight_layout()\n",
        "    plt.show()"
      ]
    },
    {
      "cell_type": "code",
      "execution_count": null,
      "metadata": {
        "id": "Alb1qjh0sbYo"
      },
      "outputs": [],
      "source": [
        "def display_slices(\n",
        "    slice_type: str,\n",
        "    slice_index: int,\n",
        "    nifti_files: list,\n",
        "    model_name: str = \"nnUNet2D\"\n",
        "):\n",
        "    \"\"\"\n",
        "    slice_type: 'Axial' | 'Coronal' | 'Sagittal'\n",
        "    slice_index: índice del corte\n",
        "    nifti_files: [original.nii.gz, ground_truth.nii.gz, prediction.nii.gz]\n",
        "    add_fp, add_fn, remove_tp: fracciones [0,1] para simular FP, FN y eliminar TP.\n",
        "    seed: semilla para reproducibilidad.\n",
        "    \"\"\"\n",
        "    \n",
        "    # 1) Cargar volúmenes\n",
        "    orig_vol, gt_vol, pred_vol = [nib.load(f).get_fdata() for f in nifti_files]\n",
        "\n",
        "    # 2) Extraer el corte 2D de cada volumen\n",
        "    def get_slice(vol):\n",
        "        if slice_type == \"Axial\":\n",
        "            return vol[:, :, slice_index]\n",
        "        elif slice_type == \"Coronal\":\n",
        "            return vol[:, slice_index, :]\n",
        "        elif slice_type == \"Sagittal\":\n",
        "            return vol[slice_index, :, :]\n",
        "        else:\n",
        "            raise ValueError(f\"slice_type inválido: {slice_type}\")\n",
        "\n",
        "    slices = [\n",
        "        get_slice(orig_vol),\n",
        "        get_slice(gt_vol),\n",
        "        get_slice(pred_vol)\n",
        "    ]\n",
        "\n",
        "    # 3) Mostrar como hasta ahora\n",
        "    _display_slices(slices, model_name)"
      ]
    },
    {
      "cell_type": "code",
      "execution_count": null,
      "metadata": {},
      "outputs": [],
      "source": [
        "def display_slices_interactive(nifti_files: list, \n",
        "                               model_name: str = \"nnUNet3D\", \n",
        "                               ):\n",
        "    # Create a dropdown for configuration\n",
        "    config_dropdown = Dropdown(\n",
        "        options=[\"Axial\", \"Coronal\", \"Sagittal\"],\n",
        "        value=\"Sagittal\",\n",
        "        description='Orientation:'\n",
        "    )\n",
        "\n",
        "    # Create a slider for the slice index\n",
        "    slice_slider = IntSlider(value=111, min=0, max=181, step=1, description=\"Slice Index\")\n",
        "\n",
        "    # Function to update the slider's max value based on the dropdown\n",
        "    def update_slider(change):\n",
        "        if change['new'] == \"Coronal\":\n",
        "            slice_slider.max = 217\n",
        "        else:\n",
        "            slice_slider.max = 181\n",
        "\n",
        "    # Link the dropdown to update the slider\n",
        "    config_dropdown.observe(update_slider, names='value')\n",
        "\n",
        "    # Wrapper function to fix 'data'\n",
        "    def wrapped_display_slices(slice_type, slice_index):\n",
        "        display_slices(slice_type=slice_type, \n",
        "                       slice_index=slice_index, \n",
        "                       nifti_files=nifti_files, \n",
        "                       model_name=model_name)\n",
        "\n",
        "    # Create an interactive widget\n",
        "    interactive_widget = interactive(wrapped_display_slices, slice_type=config_dropdown, slice_index=slice_slider)\n",
        "\n",
        "    # Display the interactive widget\n",
        "    display(interactive_widget)"
      ]
    },
    {
      "cell_type": "code",
      "execution_count": null,
      "metadata": {},
      "outputs": [
        {
          "data": {
            "application/vnd.jupyter.widget-view+json": {
              "model_id": "2a8aab3d9cd54ecd94ada1a63bee1fb5",
              "version_major": 2,
              "version_minor": 0
            },
            "text/plain": [
              "interactive(children=(Dropdown(description='Orientation:', options=('Axial', 'Coronal', 'Sagittal'), value='Ax…"
            ]
          },
          "metadata": {},
          "output_type": "display_data"
        }
      ],
      "source": [
        "cwd = os.getcwd()\n",
        "\n",
        "nnUNet_raw = f\"{cwd}/validation\"\n",
        "flair = f\"{nnUNet_raw}/original/BRATS_86.nii\"\n",
        "mask = f\"{nnUNet_raw}/mask/BRATS_86.nii\"\n",
        "nnUNet_prediction = f\"{nnUNet_raw}/nnUNet3D/BRATS_86.nii.gz\"\n",
        "\n",
        "nifti_files = [flair, mask, nnUNet_prediction]\n",
        "\n",
        "display_slices_interactive(nifti_files, \n",
        "                           model_name=\"YoloD-Sagittal\")"
      ]
    }
  ],
  "metadata": {
    "colab": {
      "provenance": []
    },
    "kernelspec": {
      "display_name": "venv",
      "language": "python",
      "name": "python3"
    },
    "language_info": {
      "codemirror_mode": {
        "name": "ipython",
        "version": 3
      },
      "file_extension": ".py",
      "mimetype": "text/x-python",
      "name": "python",
      "nbconvert_exporter": "python",
      "pygments_lexer": "ipython3",
      "version": "3.12.3"
    }
  },
  "nbformat": 4,
  "nbformat_minor": 0
}
