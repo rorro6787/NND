{
  "cells": [
    {
      "cell_type": "code",
      "execution_count": 2,
      "metadata": {},
      "outputs": [],
      "source": [
        "from ipywidgets import IntSlider, Dropdown, interactive\n",
        "from IPython.display import display\n",
        "import matplotlib.pyplot as plt\n",
        "import nibabel as nib\n",
        "import numpy as np\n",
        "import os"
      ]
    },
    {
      "cell_type": "code",
      "execution_count": 3,
      "metadata": {},
      "outputs": [],
      "source": [
        "def _display_slices(slices: list):\n",
        "    \"\"\"\n",
        "    Function to plot a slice of an MRI image\n",
        "\n",
        "    Args:\n",
        "        slices: List of 2D slices to plot\n",
        "\n",
        "    Returns:\n",
        "        None\n",
        "    \"\"\"\n",
        "    # Normalize slices to [0, 1] for proper blending\n",
        "    slices = [\n",
        "        np.clip(slice_data / np.max(slice_data), 0, 1) if np.max(slice_data) > 0 else slice_data\n",
        "        for slice_data in slices\n",
        "    ]\n",
        "\n",
        "    # Separate the images\n",
        "    original = slices[0]\n",
        "    ground_truth = slices[1]\n",
        "    prediction = slices[2]\n",
        "\n",
        "    # Create a new RGB image for overlay\n",
        "    overlay = np.zeros((*original.shape, 3))  \n",
        "    overlay[..., 0] = prediction  \n",
        "    overlay[..., 2] = ground_truth \n",
        "\n",
        "    overlay_truth = np.zeros((*original.shape, 3)) \n",
        "    overlay_truth[..., 2] = ground_truth \n",
        "\n",
        "    overlay_pred = np.zeros((*original.shape, 3))  \n",
        "    overlay_pred[..., 0] = prediction  \n",
        "\n",
        "    # Plot the two images side by side\n",
        "    _, axes = plt.subplots(1, 4, figsize=(20, 20))\n",
        "\n",
        "    # Left axis: Original grayscale image\n",
        "    axes[0].imshow(original, cmap='gray')\n",
        "    axes[0].set_title(\"Original MRI Slice\")\n",
        "    axes[0].axis('off')\n",
        "\n",
        "    # Right axis: Superimposed image\n",
        "    axes[1].imshow(original, cmap='gray')  \n",
        "    axes[1].imshow(overlay_truth, alpha=0.5)  \n",
        "    axes[1].set_title(\"Ground Truth\")\n",
        "    axes[1].axis('off')\n",
        "\n",
        "    # Right axis: Superimposed image\n",
        "    axes[2].imshow(original, cmap='gray')  \n",
        "    axes[2].imshow(overlay_pred, alpha=0.5)  \n",
        "    axes[2].set_title(\"Model's Prediction\")\n",
        "    axes[2].axis('off')\n",
        "\n",
        "    # Right axis: Superimposed image\n",
        "    axes[3].imshow(original, cmap='gray')  \n",
        "    axes[3].imshow(overlay, alpha=0.5)  \n",
        "    axes[3].set_title(\"Overlap\")\n",
        "    axes[3].axis('off')\n",
        "\n",
        "    plt.tight_layout()\n",
        "    plt.show()"
      ]
    },
    {
      "cell_type": "code",
      "execution_count": 4,
      "metadata": {
        "id": "Alb1qjh0sbYo"
      },
      "outputs": [],
      "source": [
        "def display_slices(slice_type: str, slice_index: int, nifti_files: list):\n",
        "    \"\"\"\n",
        "    Function to display a slice of an MRI image\n",
        "\n",
        "    Args:\n",
        "        slice_type: Type of slice to display (Axial, Coronal, Sagittal)\n",
        "        slice_index: Index of the slice to display\n",
        "    \n",
        "    Returns:\n",
        "        None\n",
        "    \"\"\"\n",
        "\n",
        "    os.rename(f\"{nifti_files[0]}.gz\", nifti_files[0])\n",
        "    os.rename(f\"{nifti_files[1]}.gz\", nifti_files[1])\n",
        "\n",
        "    # Load NIFTI files and extract the slice\n",
        "    slices = []\n",
        "    for file in nifti_files:\n",
        "        nii_img = nib.load(file)  \n",
        "        data = nii_img.get_fdata()  \n",
        "        if slice_type == \"Axial\":\n",
        "            slice_data = data[:, :, slice_index]\n",
        "        elif slice_type == \"Coronal\":\n",
        "            slice_data = data[:, slice_index, :]\n",
        "        elif slice_type == \"Sagittal\":\n",
        "            slice_data = data[slice_index, :, :]\n",
        "\n",
        "        slices.append(slice_data)\n",
        "\n",
        "    os.rename(nifti_files[0], f\"{nifti_files[0]}.gz\")\n",
        "    os.rename(nifti_files[1], f\"{nifti_files[1]}.gz\")\n",
        "\n",
        "    # Plot the slices\n",
        "    _display_slices(slices)"
      ]
    },
    {
      "cell_type": "code",
      "execution_count": 5,
      "metadata": {},
      "outputs": [],
      "source": [
        "def display_slices_interactive(nifti_files: list):\n",
        "    # Create a dropdown for configuration\n",
        "    config_dropdown = Dropdown(\n",
        "        options=[\"Axial\", \"Coronal\", \"Sagittal\"],\n",
        "        value=\"Axial\",\n",
        "        description='Orientation:'\n",
        "    )\n",
        "\n",
        "    # Create a slider for the slice index\n",
        "    slice_slider = IntSlider(value=110, min=0, max=181, step=1, description=\"Slice Index\")\n",
        "\n",
        "    # Function to update the slider's max value based on the dropdown\n",
        "    def update_slider(change):\n",
        "        if change['new'] == \"Coronal\":\n",
        "            slice_slider.max = 217\n",
        "        else:\n",
        "            slice_slider.max = 181\n",
        "\n",
        "    # Link the dropdown to update the slider\n",
        "    config_dropdown.observe(update_slider, names='value')\n",
        "\n",
        "    # Wrapper function to fix 'data'\n",
        "    def wrapped_display_slices(slice_type, slice_index):\n",
        "        display_slices(slice_type=slice_type, slice_index=slice_index, nifti_files=nifti_files)\n",
        "\n",
        "    # Create an interactive widget\n",
        "    interactive_widget = interactive(wrapped_display_slices, slice_type=config_dropdown, slice_index=slice_slider)\n",
        "\n",
        "    # Display the interactive widget\n",
        "    display(interactive_widget)"
      ]
    },
    {
      "cell_type": "code",
      "execution_count": 6,
      "metadata": {},
      "outputs": [
        {
          "data": {
            "application/vnd.jupyter.widget-view+json": {
              "model_id": "2a8aab3d9cd54ecd94ada1a63bee1fb5",
              "version_major": 2,
              "version_minor": 0
            },
            "text/plain": [
              "interactive(children=(Dropdown(description='Orientation:', options=('Axial', 'Coronal', 'Sagittal'), value='Ax…"
            ]
          },
          "metadata": {},
          "output_type": "display_data"
        }
      ],
      "source": [
        "cwd = os.getcwd()\n",
        "\n",
        "nnUNet_raw = f\"{cwd}/nnUNet_raw/Dataset024_MSLesSeg\"\n",
        "flair = f\"{nnUNet_raw}/imagesTs/BRATS_88_0000.nii\"\n",
        "mask = f\"{nnUNet_raw}/labelsTs/BRATS_88.nii\"\n",
        "nnUNet_prediction = f\"{nnUNet_raw}/nnUNet_tests_0/BRATS_88.nii.gz\"\n",
        "\n",
        "nifti_files = [flair, mask, nnUNet_prediction]\n",
        "\n",
        "display_slices_interactive(nifti_files)"
      ]
    }
  ],
  "metadata": {
    "colab": {
      "provenance": []
    },
    "kernelspec": {
      "display_name": "venv",
      "language": "python",
      "name": "python3"
    },
    "language_info": {
      "codemirror_mode": {
        "name": "ipython",
        "version": 3
      },
      "file_extension": ".py",
      "mimetype": "text/x-python",
      "name": "python",
      "nbconvert_exporter": "python",
      "pygments_lexer": "ipython3",
      "version": "3.12.3"
    }
  },
  "nbformat": 4,
  "nbformat_minor": 0
}
